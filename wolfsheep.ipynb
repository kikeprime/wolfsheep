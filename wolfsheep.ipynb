{
 "cells": [
  {
   "cell_type": "markdown",
   "id": "5e6db586",
   "metadata": {},
   "source": [
    "# Herman Dávid Tamás\n",
    "# Farkasok és bárányok populációmodell"
   ]
  },
  {
   "cell_type": "markdown",
   "id": "971dfeb5",
   "metadata": {},
   "source": [
    "## Előszó"
   ]
  },
  {
   "cell_type": "markdown",
   "id": "0d2fac66",
   "metadata": {},
   "source": [
    "A \"Farkasok és bárányok\" egy NetLogoban készült ágens alapú modell saját programozású mesa implementációja, illetve továbbfejlesztése.\n",
    "Ez a modell egy farkas-, és egy bárány populáció együttélését modellezi háromféleképpen.\n",
    "Az alapértelmezett modelltípus a saját bővítéseimet tartalmazza, míg a másik kettő az eredeti modell két típusát hivatott a lehető leghűbben implementálni."
   ]
  },
  {
   "cell_type": "markdown",
   "id": "bd968475",
   "metadata": {},
   "source": [
    "## A modelltípusok működési jellemzői"
   ]
  },
  {
   "cell_type": "markdown",
   "id": "0bb0d6e0",
   "metadata": {},
   "source": [
    "### Közös jellemzők"
   ]
  },
  {
   "cell_type": "markdown",
   "id": "85bd736c",
   "metadata": {},
   "source": [
    "Mindhárom modellben van két állatfaj, egy ragadozó és egy növényevő, amelyeket mint farkasok és bárányok reprezentálunk.\n",
    "Ezek az állatok egy füves területen élnek és a bárányok legelik a füvet, a farkasok megeszik a bárányokat.\n",
    "Továbbá minden egyednek van valamennyi energiája, amely minden lépésben (a modell állapotváltozása) eggyel csökken, de evés által a megadott paraméternyivel megnő. Ha elfogy az energiájuk (nem 0, hanem kevesebb, mint 0 energia), akkor meghalnak. Ezek mellett képesek is szaporodni valószínűségi alapon, azonban ekkor az energiájuk megfeleződik.\n",
    "\n",
    "Az eredeti modellben a fű mint \"patchek\" voltak a cellákba helyezve, míg ebben az implementációban ágensként. Mindhárom modell esetén annyi fű ágens van ahány cella. A fűnek két állapota van, a kinőtt és a lelegelt.\n",
    "\n",
    "Új paraméterek, amely mindhárom modellnél működnek:\n",
    "\n",
    "* A farkasok aktívan vadásszanak-e.\n",
    "\n",
    "* A bárányok csordába igyekezzenek-e szerveződni."
   ]
  },
  {
   "cell_type": "markdown",
   "id": "66ddaad1",
   "metadata": {},
   "source": [
    "### Farkasok és bárányok"
   ]
  },
  {
   "cell_type": "markdown",
   "id": "b6cd8f86",
   "metadata": {},
   "source": [
    "* A legegyszerűbb modelltípus, amely az eredeti modellből lett közvetlenül implementálva.\n",
    "\n",
    "* Minden fű mindig ki van nőve.\n",
    "\n",
    "* A bárányoknak végtelen energiájuk van (nem változik).\n",
    "\n",
    "* A farkasok megadott valószínűséggel esznek meg egy bárányt abból a cellából amelyen ők is vannak.\n",
    "\n",
    "* Az egyedek megadott valószínűség hoznak világra utódot, amely utód az egyik szomszédos cellába kerül."
   ]
  },
  {
   "cell_type": "markdown",
   "id": "ea968622",
   "metadata": {},
   "source": [
    "### Farkasok, bárányok és fű"
   ]
  },
  {
   "cell_type": "markdown",
   "id": "329d838e",
   "metadata": {},
   "source": [
    "* Szintén az eredeti modellből implementálva\n",
    "\n",
    "* A fentiek érvényesek az alábbiak mellett.\n",
    "\n",
    "* A bárányok energiája csökken minden lépéskor és megnő minden evéskor.\n",
    "\n",
    "* A lelegelt fű ágensek megadott lépésenként nőnek ki újra."
   ]
  },
  {
   "cell_type": "markdown",
   "id": "7f98a11a",
   "metadata": {},
   "source": [
    "### Bővített modell"
   ]
  },
  {
   "cell_type": "markdown",
   "id": "dea809f4",
   "metadata": {},
   "source": [
    "* Az általam bővített modelltípus.\n",
    "\n",
    "* Az állat ágenseknek van neme.\n",
    "\n",
    "* A szaporodáshoz a valószínűség mellett két különböző nemű egyed kell legyen egy közös cellában és mindkét szűlőnek \"akarnia\" kell.\n",
    "\n",
    "* Az új szaporodási feltételek miatt egy szülő szaporodási valószínűsége a paraméter gyöke, így a két szülő együtt adja ki a paramétert."
   ]
  },
  {
   "cell_type": "markdown",
   "id": "285f4d38",
   "metadata": {},
   "source": [
    "## Megfigyelések"
   ]
  },
  {
   "cell_type": "markdown",
   "id": "f5a2eba0",
   "metadata": {},
   "source": [
    "A modell elemzés szempontjából legérdekesebb tulajdonsága a stabilitása, vagyis milyen paraméterek mellett nem halnak ki az állatok.\n",
    "\n",
    "A három modelltípus különböző paraméterek mellett stabilak."
   ]
  },
  {
   "cell_type": "markdown",
   "id": "0acb87dc",
   "metadata": {},
   "source": [
    "## Hivatkozások"
   ]
  },
  {
   "cell_type": "markdown",
   "id": "1f501aac",
   "metadata": {},
   "source": [
    "* Wilensky, U. (1997). NetLogo Wolf Sheep Predation model. http://ccl.northwestern.edu/netlogo/models/WolfSheepPredation. Center for Connected Learning and Computer-Based Modeling, Northwestern University, Evanston, IL."
   ]
  }
 ],
 "metadata": {
  "kernelspec": {
   "display_name": "Python 3",
   "language": "python",
   "name": "python3"
  },
  "language_info": {
   "codemirror_mode": {
    "name": "ipython",
    "version": 3
   },
   "file_extension": ".py",
   "mimetype": "text/x-python",
   "name": "python",
   "nbconvert_exporter": "python",
   "pygments_lexer": "ipython3",
   "version": "3.12.2"
  }
 },
 "nbformat": 4,
 "nbformat_minor": 5
}
