{
 "cells": [
  {
   "cell_type": "markdown",
   "id": "5e6db586",
   "metadata": {},
   "source": [
    "# Herman Dávid Tamás\n",
    "# Farkasok és bárányok populációmodell"
   ]
  },
  {
   "cell_type": "markdown",
   "id": "971dfeb5",
   "metadata": {},
   "source": [
    "## Előszó"
   ]
  },
  {
   "cell_type": "markdown",
   "id": "0d2fac66",
   "metadata": {},
   "source": [
    "A \"Farkasok és bárányok\" egy NetLogoban készült ágens alapú modell saját programozású mesa implementációja, illetve továbbfejlesztése.\n",
    "Ez a modell egy farkas-, és egy bárány populáció együttélését modellezi háromféleképpen.\n",
    "Az alapértelmezett modelltípus a saját bővítéseimet tartalmazza, míg a másik kettő az eredeti modell két típusát hivatott a lehető leghűbben implementálni."
   ]
  },
  {
   "cell_type": "markdown",
   "id": "bd968475",
   "metadata": {},
   "source": [
    "## A modelltípusok működési jellemzői"
   ]
  },
  {
   "cell_type": "markdown",
   "id": "0bb0d6e0",
   "metadata": {},
   "source": [
    "### Közös jellemzők"
   ]
  },
  {
   "cell_type": "markdown",
   "id": "85bd736c",
   "metadata": {},
   "source": [
    "Mindhárom modellben van két állatfaj, egy ragadozó és egy növényevő, amelyeket mint farkasok és bárányok reprezentálunk.\n",
    "Ezek az állatok egy füves területen élnek és a bárányok legelik a füvet, a farkasok megeszik a bárányokat.\n",
    "Továbbá minden egyednek van valamennyi energiája (továbbiakban energiapont), amely minden lépésben (a modell állapotváltozása) eggyel csökken, de evés által a megadott paraméternyivel megnő. Ha elfogy az energiájuk (nem 0, hanem kevesebb, mint 0 energiapont), akkor meghalnak. Ezek mellett képesek is szaporodni valószínűségi alapon, azonban ekkor az energiájuk megfeleződik.\n",
    "\n",
    "Az eredeti modellben a fű mint \"patchek\" voltak a cellákba helyezve, míg ebben az implementációban ágensként. Mindhárom modell esetén annyi fű ágens van ahány cella. A fűnek két állapota van, a kinőtt és a lelegelt.\n",
    "\n",
    "Új paraméterek, amely mindhárom modellnél működnek:\n",
    "\n",
    "* A farkasok aktívan vadásszanak-e.\n",
    "\n",
    "* A bárányok nyájba igyekezzenek-e szerveződni."
   ]
  },
  {
   "cell_type": "markdown",
   "id": "66ddaad1",
   "metadata": {},
   "source": [
    "### Farkasok és bárányok"
   ]
  },
  {
   "cell_type": "markdown",
   "id": "b6cd8f86",
   "metadata": {},
   "source": [
    "* A legegyszerűbb modelltípus, amely az eredeti modellből lett közvetlenül implementálva.\n",
    "\n",
    "* Minden fű mindig ki van nőve.\n",
    "\n",
    "* A bárányoknak végtelen energiájuk van (nem változik).\n",
    "\n",
    "* A farkasok megadott valószínűséggel esznek meg egy bárányt abból a cellából amelyen ők is vannak.\n",
    "\n",
    "* Az egyedek megadott valószínűség hoznak világra utódot, amely utód az egyik szomszédos cellába kerül."
   ]
  },
  {
   "cell_type": "markdown",
   "id": "ea968622",
   "metadata": {},
   "source": [
    "### Farkasok, bárányok és fű"
   ]
  },
  {
   "cell_type": "markdown",
   "id": "329d838e",
   "metadata": {},
   "source": [
    "* Szintén az eredeti modellből implementálva\n",
    "\n",
    "* A fentiek érvényesek az alábbiak mellett.\n",
    "\n",
    "* A bárányok energiája csökken minden lépéskor és megnő minden evéskor.\n",
    "\n",
    "* A lelegelt fű ágensek megadott lépésenként nőnek ki újra."
   ]
  },
  {
   "cell_type": "markdown",
   "id": "7f98a11a",
   "metadata": {},
   "source": [
    "### Bővített modell"
   ]
  },
  {
   "cell_type": "markdown",
   "id": "dea809f4",
   "metadata": {},
   "source": [
    "* Az általam bővített modelltípus.\n",
    "\n",
    "* Az állat ágenseknek van neme.\n",
    "\n",
    "* A szaporodáshoz a valószínűség mellett két különböző nemű egyed kell legyen egy közös cellában és mindkét szűlőnek \"akarnia\" kell.\n",
    "\n",
    "* Az új szaporodási feltételek miatt egy szülő szaporodási valószínűsége a paraméter gyöke, így a két szülő együtt adja ki a paramétert."
   ]
  },
  {
   "cell_type": "markdown",
   "id": "285f4d38",
   "metadata": {},
   "source": [
    "## Megfigyelések"
   ]
  },
  {
   "cell_type": "markdown",
   "id": "f5a2eba0",
   "metadata": {},
   "source": [
    "A megfigyelések leírása előtt rögzíteném a kiindulási paramétereket, amelyeket nagyrészt az eredeti modellből választottam.\n",
    "Az életteret reprezentáló rács szélei össze vannak kötve egymással azaz, ha egy állat például egy felső szélen lévő cellából felfelé lép, akkor az alsó szélen lyukad ki.\n",
    "A farkasok kezdeti száma 50, a bárányoké 100. A farkasok egy bárány megevésével 50 energiapontot szereznek, míg a bárányok egy cellányi fűből 4 energiapontot nyernek.\n",
    "A farkasok 5, a bárányok 4% valószínűséggel szaporodnak. A lelegelt fű 30 lépésenként nő vissza. A farkasok aktívan vadásznak, a bárányok nyájba igyekeznek szerveződni.\n",
    "A seed 474.\n",
    "\n",
    "A modell elemzés szempontjából legérdekesebb tulajdonsága a stabilitása, vagyis milyen paraméterek mellett nem halnak ki az állatok, illetve nem szaporodnak túl.\n",
    "\n",
    "Először egy az eredeti modell esetében is stabil beállításról beszélnék, arról, amikor a farkasok, bárányok és fű modellben a farkasok kezdeti számát nullára állítjuk. Ha modellem minden paraméterét alapértelmezetten hagyunk kivéve a modelltípust és a farkasok kezdeti számát, akkor is stabil modellt kapunk, de a bárányok sok kis létszámú nyájba szerveződnek. Ennek az az eddig nem említett oka, hogy, ha egy báránynak 0 energiapontja van, akkor nem korlátozom a mozgásukat (bármely szomszédos cellába léphetnek, ez az alapértelmezett viselkedés is) a túlélés valószínűségének növelése érdekében."
   ]
  },
  {
   "cell_type": "markdown",
   "id": "7513c41e",
   "metadata": {},
   "source": [
    "## A vizualizációs program"
   ]
  },
  {
   "cell_type": "markdown",
   "id": "ab4d68cd",
   "metadata": {},
   "source": [
    "A modell vizualizációjáért a mesa_viz_tornado python csomag felelős (a Python tehát előfeltétele a futtatásnak), ami a mesa 2.4.0 verziójának egy szükséges csomagja, azonban az ennél újabb verziók (3.0.0+) megszabadultak tőle, ezért a kompatibilitás érdekében közvetlenül importáltam a belőle szükséges elemeket. Magának a modell kódjában van mesa verzió ellenőrzés is az ágensek bemeneti paraméter változása miatt, de ez a vizualizációt nem érinti.\n",
    "\n",
    "A vizualizációs programot többféleképpen is el lehet indítani. Egyik lehetőség az ezen notebookkal egy mappában lévő run.py fálj futtatása, vagy a mappában megnyitott parancsorba azt írjuk be, hogy \"mesa runserver\" idézjelek nélkül.\n",
    "\n",
    "Sajnálatos módon, Linux rendszerek alatt ajánlott a futtatás, mert valamilyen ok folytán Windows alatt a mesa_viz_tornado által generált weboldalon nem jelennek meg rendesen az interaktív elemek. Azonban WSL-lel vagy virtuális géppel Windowson is hibátlanul futattható, de a Microsoft Edge böngésző így sem tudja megjeleníteni a kérdéses elemeket, de a Firefox és a Google Chrome igen. Mindkét módszert Debian Linuxszal teszteltem."
   ]
  },
  {
   "cell_type": "markdown",
   "id": "0acb87dc",
   "metadata": {},
   "source": [
    "## Hivatkozások"
   ]
  },
  {
   "cell_type": "markdown",
   "id": "1f501aac",
   "metadata": {},
   "source": [
    "* Wilensky, U. (1997). NetLogo Wolf Sheep Predation model. http://ccl.northwestern.edu/netlogo/models/WolfSheepPredation. Center for Connected Learning and Computer-Based Modeling, Northwestern University, Evanston, IL."
   ]
  }
 ],
 "metadata": {
  "kernelspec": {
   "display_name": "Python 3",
   "language": "python",
   "name": "python3"
  },
  "language_info": {
   "codemirror_mode": {
    "name": "ipython",
    "version": 3
   },
   "file_extension": ".py",
   "mimetype": "text/x-python",
   "name": "python",
   "nbconvert_exporter": "python",
   "pygments_lexer": "ipython3",
   "version": "3.12.2"
  }
 },
 "nbformat": 4,
 "nbformat_minor": 5
}
