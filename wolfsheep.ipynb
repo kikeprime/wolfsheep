{
 "cells": [
  {
   "cell_type": "markdown",
   "id": "5e6db586",
   "metadata": {},
   "source": [
    "# Herman Dávid Tamás\n",
    "# Farkasok és bárányok populációmodell <img src=\"wolfsheep/pics/wolf.png\"> <img src=\"wolfsheep/pics/fsheep.png\">"
   ]
  },
  {
   "cell_type": "markdown",
   "id": "971dfeb5",
   "metadata": {},
   "source": [
    "## Előszó"
   ]
  },
  {
   "cell_type": "markdown",
   "id": "0d2fac66",
   "metadata": {},
   "source": [
    "A \"Farkasok és bárányok\" egy NetLogoban készült ágens alapú modell saját programozású mesa implementációja, illetve továbbfejlesztése.\n",
    "Ez a modell egy ragadozófaj és annak egy prédájának populációinak együttélését modellezi háromféleképpen.\n",
    "Az alapértelmezett modelltípus a saját bővítéseimet tartalmazza, míg a másik kettő az eredeti modell két típusát hivatott a lehető leghűbben implementálni."
   ]
  },
  {
   "cell_type": "markdown",
   "id": "bd968475",
   "metadata": {},
   "source": [
    "## A modelltípusok működési jellemzői"
   ]
  },
  {
   "cell_type": "markdown",
   "id": "0bb0d6e0",
   "metadata": {},
   "source": [
    "### Közös jellemzők"
   ]
  },
  {
   "cell_type": "markdown",
   "id": "85bd736c",
   "metadata": {},
   "source": [
    "Mindhárom modellben van két állatfaj, egy ragadozó és annak egy prédája, amelyeket mint farkasok és bárányok reprezentálunk.\n",
    "Ezek az állatok egy füves területen élnek és a bárányok legelik a füvet, a farkasok megeszik a bárányokat.\n",
    "Továbbá minden egyednek van valamennyi energiája (továbbiakban energiapont), amely minden lépésben (a modell állapotváltozása) eggyel csökken, de evés által a megadott paraméternyivel megnő. Ha elfogy az energiájuk (nem 0, hanem kevesebb, mint 0 energiapont), akkor meghalnak. Ezek mellett képesek is szaporodni valószínűségi alapon, azonban ekkor az energiájuk megfeleződik.\n",
    "\n",
    "Az eredeti modellben a fű mint \"patchek\" voltak a cellákba helyezve, míg ebben az implementációban ágensként. Mindhárom modell esetén annyi fű ágens van ahány cella. A fűnek két állapota van, a kinőtt és a lelegelt.\n",
    "\n",
    "Új paraméterek, amely mindhárom modellnél működnek:\n",
    "\n",
    "* A farkasok aktívan vadásszanak-e.\n",
    "\n",
    "* A vadászatot korlátozó kitevő. Lásd lejjebb.\n",
    "\n",
    "* A bárányok nyájba igyekezzenek-e szerveződni.\n",
    "\n",
    "* A random függvényeket szabályzó seed. A seed segítségével reprodukálhatóvá válnak a futtattások, de kikapcsolható.\n",
    "\n",
    "A vadászatot korlátozó kitevő azt jelenti, hogy annak a valószínűsége, hogy egy farkas aktívan vadászik $\\text{energiapont}^{-|\\text{kitevő}|}$. Tehát, ha a kitevő 0, akkor nincs korlátozás. Fontos megjegyezni, hogy a kitevő azért nempozitív, mert különben a kódban működéséből kifolyólag a valószínűség 100% lenne, mint a 0 esetében. Szabad vadászat esetén a túlvadászat a jellemző, ez volt a kitevő bevezetésének motivációja."
   ]
  },
  {
   "cell_type": "markdown",
   "id": "66ddaad1",
   "metadata": {},
   "source": [
    "### Farkasok és bárányok"
   ]
  },
  {
   "cell_type": "markdown",
   "id": "b6cd8f86",
   "metadata": {},
   "source": [
    "* A legegyszerűbb modelltípus, amely az eredeti modellből lett közvetlenül implementálva.\n",
    "\n",
    "* Minden fű mindig ki van nőve.\n",
    "\n",
    "* A bárányoknak végtelen energiájuk van (nem változik).\n",
    "\n",
    "* A farkasok megadott valószínűséggel esznek meg egy bárányt abból a cellából amelyen ők is vannak.\n",
    "\n",
    "* Az egyedek megadott valószínűséggel hoznak világra utódot, amely utód az egyik szomszédos cellába kerül."
   ]
  },
  {
   "cell_type": "markdown",
   "id": "ea968622",
   "metadata": {},
   "source": [
    "### Farkasok, bárányok és fű"
   ]
  },
  {
   "cell_type": "markdown",
   "id": "329d838e",
   "metadata": {},
   "source": [
    "* Szintén az eredeti modellből implementálva.\n",
    "\n",
    "* A fentiek érvényesek az alábbiak mellett.\n",
    "\n",
    "* A bárányok energiája ugyanúgy változik, mint a farkasoké.\n",
    "\n",
    "* A lelegelt fű ágensek megadott lépésenként nőnek ki újra."
   ]
  },
  {
   "cell_type": "markdown",
   "id": "7f98a11a",
   "metadata": {},
   "source": [
    "### Bővített modell"
   ]
  },
  {
   "cell_type": "markdown",
   "id": "dea809f4",
   "metadata": {},
   "source": [
    "* Az általam bővített modelltípus.\n",
    "\n",
    "* Az állat ágenseknek van neme.\n",
    "\n",
    "* A szaporodáshoz a valószínűség mellett két különböző nemű egyed kell legyen egy közös cellában és mindkét szűlőnek \"akarnia\" kell.\n",
    "\n",
    "* Az új szaporodási feltételek miatt egy szülő szaporodási valószínűsége a paraméter gyöke, így a két szülő együtt adja ki a paramétert."
   ]
  },
  {
   "cell_type": "markdown",
   "id": "285f4d38",
   "metadata": {},
   "source": [
    "## Megfigyelések"
   ]
  },
  {
   "cell_type": "markdown",
   "id": "f5a2eba0",
   "metadata": {},
   "source": [
    "A megfigyelések leírása előtt rögzíteném a kiindulási paramétereket, amelyeket nagyrészt az eredeti modellből választottam, de az energiapontszerzést és a farkasok szaporodási rátáját növeltem a stabbilitás érdekében.\n",
    "Az életteret reprezentáló rács szélei össze vannak kötve egymással azaz, ha egy állat például egy felső szélen lévő cellából felfelé lép, akkor az alsó szélen lyukad ki.\n",
    "A farkasok kezdeti száma 50, a bárányoké 100. A farkasok egy bárány megevésével 30 energiapontot szereznek (eredetileg 20-at), míg a bárányok egy cellányi fűből szintén 20 energiapontot nyernek (eredetileg 4-et).\n",
    "A farkasok 10 (eredetileg 5), a bárányok 4% valószínűséggel szaporodnak. A lelegelt fű 30 lépésenként nő vissza. A farkasok aktívan vadásznak, a bárányok nyájba igyekeznek szerveződni.\n",
    "A vadászatot korlátozó kitevő $-0.5$, a seed 474.\n",
    "\n",
    "A modell elemzés szempontjából legérdekesebb tulajdonsága a stabilitása, vagyis milyen paraméterek mellett nem halnak ki az állatok, illetve nem szaporodnak túl.\n",
    "\n",
    "Először egy az eredeti modell esetében is stabil beállításról beszélnék, arról, amikor a farkasok, bárányok és fű modellben a farkasok kezdeti számát nullára állítjuk. Ha a modellem minden paraméterét alapértelmezetten hagyunk kivéve a farkasok kezdeti számát, akkor is stabil modellt kapunk, szép nagy nyájakkal. Ha azonban a bárányok fűből nyert energiapontmennyiségét visszaállítjuk 4-re, akkor a bárányok párokba szerveződnek és könnyen előfordulhat, hogy a populáció egyneművé válik, tehát a modell így nem stabil. A párokba szerveződésnek az az eddig nem említett oka, hogy, ha egy báránynak 0 energiapontja van, akkor a mozgásuk nem korlátozott (bármely szomszédos cellába léphetnek, ez az alapértelmezett viselkedés is) a túlélés valószínűségének növelése érdekében."
   ]
  },
  {
   "cell_type": "markdown",
   "id": "7513c41e",
   "metadata": {},
   "source": [
    "## A vizualizációs program"
   ]
  },
  {
   "cell_type": "markdown",
   "id": "c9059720",
   "metadata": {},
   "source": [
    "### Futattás"
   ]
  },
  {
   "cell_type": "markdown",
   "id": "ab4d68cd",
   "metadata": {},
   "source": [
    "A modell vizualizációjáért a mesa_viz_tornado python csomag felelős (a Python tehát előfeltétele a futtatásnak), ami a mesa 2.4.0 verziójának telepítésekor automatikusan települ, azonban az ennél újabb verziók (3.0.0+) már nem használják, ezért a kompatibilitás érdekében közvetlenül importáltam a belőle szükséges elemeket.\n",
    "\n",
    "A vizualizációs programot többféleképpen is el lehet indítani. Egyik lehetőség az ezen notebookkal egy mappában lévő run.py fálj futtatása, vagy a mappában megnyitott parancsorba azt írjuk be, hogy \"mesa runserver\" idézjelek nélkül.\n",
    "\n",
    "Sajnálatos módon, csak Linux alatt ajánlott a futtatás, mert valamilyen ok folytán Windows alatt a mesa_viz_tornado által generált weboldalon nem jelennek meg rendesen az interaktív elemek, de ettől függetlenül minden működik. Azonban WSL-lel vagy virtuális géppel Windowson is hibátlanul futattható, de a Microsoft Edge böngésző így sem tudja megjeleníteni az érintett elemeket, de a Firefox és a Google Chrome igen. Mindkét módszert Debian Linuxszal teszteltem. Én a WSL megoldást javaslom, mert a kiírt IP-címes URL működik (http://127.0.0.1:8521, amivel egyenértékű a <a href=http://localhost:8521>localhost:8521</a>) a virtuális gép esetével ellentétben, ahol a programtól és annak beállításaitól függ az IP-cím."
   ]
  },
  {
   "cell_type": "markdown",
   "id": "a1f82297",
   "metadata": {},
   "source": [
    "### Kezelés"
   ]
  },
  {
   "cell_type": "markdown",
   "id": "ea331839",
   "metadata": {},
   "source": [
    "<img src=\"wolfsheep/pics/viz_showcase.png\" width=700>\n",
    "\n",
    "A fenti ábrán egy az alapértelmezett paraméterekkel, kezdeti állapotban készült képernyőkép látható."
   ]
  },
  {
   "cell_type": "markdown",
   "id": "14c950e0",
   "metadata": {},
   "source": [
    "## Vizualizáció nélküli futtattás"
   ]
  },
  {
   "cell_type": "markdown",
   "id": "60e9a092",
   "metadata": {},
   "source": [
    "Az alábbi cella futtattásával a modell alapértelmezett paramétereivel 100 lépés szimulálható és az adatokat egy pontosvesszővel elválasztott csv fájlba írható, amelyben tizedesvessző van, nem tizedespont. Igény szerint ez a df.to_csv sep és decimal paraméterrével megváltoztatható, illetve az első paraméter a fájlnév. A lépésszám a range(100)-ban a 100 átállításával változtatható meg. Én az 5000 vagy 10000 lépésszámot ajánlom, de ilyenkor a futtattás hosszabb időbe telik."
   ]
  },
  {
   "cell_type": "code",
   "execution_count": 12,
   "id": "2fc65117",
   "metadata": {},
   "outputs": [
    {
     "data": {
      "text/html": [
       "<div>\n",
       "<style scoped>\n",
       "    .dataframe tbody tr th:only-of-type {\n",
       "        vertical-align: middle;\n",
       "    }\n",
       "\n",
       "    .dataframe tbody tr th {\n",
       "        vertical-align: top;\n",
       "    }\n",
       "\n",
       "    .dataframe thead th {\n",
       "        text-align: right;\n",
       "    }\n",
       "</style>\n",
       "<table border=\"1\" class=\"dataframe\">\n",
       "  <thead>\n",
       "    <tr style=\"text-align: right;\">\n",
       "      <th></th>\n",
       "      <th>Number of wolves</th>\n",
       "      <th>Number of sheep</th>\n",
       "      <th>Number of female wolves</th>\n",
       "      <th>Number of male wolves</th>\n",
       "      <th>Number of female sheep</th>\n",
       "      <th>Number of male sheep</th>\n",
       "      <th>Ratio of grass patches (%)</th>\n",
       "    </tr>\n",
       "    <tr>\n",
       "      <th>Step</th>\n",
       "      <th></th>\n",
       "      <th></th>\n",
       "      <th></th>\n",
       "      <th></th>\n",
       "      <th></th>\n",
       "      <th></th>\n",
       "      <th></th>\n",
       "    </tr>\n",
       "  </thead>\n",
       "  <tbody>\n",
       "    <tr>\n",
       "      <th>0</th>\n",
       "      <td>50</td>\n",
       "      <td>100</td>\n",
       "      <td>22</td>\n",
       "      <td>28</td>\n",
       "      <td>44</td>\n",
       "      <td>56</td>\n",
       "      <td>49.333333</td>\n",
       "    </tr>\n",
       "    <tr>\n",
       "      <th>1</th>\n",
       "      <td>49</td>\n",
       "      <td>88</td>\n",
       "      <td>22</td>\n",
       "      <td>27</td>\n",
       "      <td>40</td>\n",
       "      <td>48</td>\n",
       "      <td>46.888889</td>\n",
       "    </tr>\n",
       "    <tr>\n",
       "      <th>2</th>\n",
       "      <td>49</td>\n",
       "      <td>81</td>\n",
       "      <td>22</td>\n",
       "      <td>27</td>\n",
       "      <td>34</td>\n",
       "      <td>47</td>\n",
       "      <td>45.444444</td>\n",
       "    </tr>\n",
       "    <tr>\n",
       "      <th>3</th>\n",
       "      <td>48</td>\n",
       "      <td>72</td>\n",
       "      <td>21</td>\n",
       "      <td>27</td>\n",
       "      <td>31</td>\n",
       "      <td>41</td>\n",
       "      <td>44.111111</td>\n",
       "    </tr>\n",
       "    <tr>\n",
       "      <th>4</th>\n",
       "      <td>48</td>\n",
       "      <td>64</td>\n",
       "      <td>21</td>\n",
       "      <td>27</td>\n",
       "      <td>29</td>\n",
       "      <td>35</td>\n",
       "      <td>44.222222</td>\n",
       "    </tr>\n",
       "    <tr>\n",
       "      <th>...</th>\n",
       "      <td>...</td>\n",
       "      <td>...</td>\n",
       "      <td>...</td>\n",
       "      <td>...</td>\n",
       "      <td>...</td>\n",
       "      <td>...</td>\n",
       "      <td>...</td>\n",
       "    </tr>\n",
       "    <tr>\n",
       "      <th>96</th>\n",
       "      <td>2</td>\n",
       "      <td>1</td>\n",
       "      <td>1</td>\n",
       "      <td>1</td>\n",
       "      <td>0</td>\n",
       "      <td>1</td>\n",
       "      <td>96.444444</td>\n",
       "    </tr>\n",
       "    <tr>\n",
       "      <th>97</th>\n",
       "      <td>2</td>\n",
       "      <td>1</td>\n",
       "      <td>1</td>\n",
       "      <td>1</td>\n",
       "      <td>0</td>\n",
       "      <td>1</td>\n",
       "      <td>96.444444</td>\n",
       "    </tr>\n",
       "    <tr>\n",
       "      <th>98</th>\n",
       "      <td>2</td>\n",
       "      <td>1</td>\n",
       "      <td>1</td>\n",
       "      <td>1</td>\n",
       "      <td>0</td>\n",
       "      <td>1</td>\n",
       "      <td>96.666667</td>\n",
       "    </tr>\n",
       "    <tr>\n",
       "      <th>99</th>\n",
       "      <td>2</td>\n",
       "      <td>1</td>\n",
       "      <td>1</td>\n",
       "      <td>1</td>\n",
       "      <td>0</td>\n",
       "      <td>1</td>\n",
       "      <td>96.666667</td>\n",
       "    </tr>\n",
       "    <tr>\n",
       "      <th>100</th>\n",
       "      <td>2</td>\n",
       "      <td>1</td>\n",
       "      <td>1</td>\n",
       "      <td>1</td>\n",
       "      <td>0</td>\n",
       "      <td>1</td>\n",
       "      <td>96.777778</td>\n",
       "    </tr>\n",
       "  </tbody>\n",
       "</table>\n",
       "<p>101 rows × 7 columns</p>\n",
       "</div>"
      ],
      "text/plain": [
       "      Number of wolves  Number of sheep  Number of female wolves  \\\n",
       "Step                                                               \n",
       "0                   50              100                       22   \n",
       "1                   49               88                       22   \n",
       "2                   49               81                       22   \n",
       "3                   48               72                       21   \n",
       "4                   48               64                       21   \n",
       "...                ...              ...                      ...   \n",
       "96                   2                1                        1   \n",
       "97                   2                1                        1   \n",
       "98                   2                1                        1   \n",
       "99                   2                1                        1   \n",
       "100                  2                1                        1   \n",
       "\n",
       "      Number of male wolves  Number of female sheep  Number of male sheep  \\\n",
       "Step                                                                        \n",
       "0                        28                      44                    56   \n",
       "1                        27                      40                    48   \n",
       "2                        27                      34                    47   \n",
       "3                        27                      31                    41   \n",
       "4                        27                      29                    35   \n",
       "...                     ...                     ...                   ...   \n",
       "96                        1                       0                     1   \n",
       "97                        1                       0                     1   \n",
       "98                        1                       0                     1   \n",
       "99                        1                       0                     1   \n",
       "100                       1                       0                     1   \n",
       "\n",
       "      Ratio of grass patches (%)  \n",
       "Step                              \n",
       "0                      49.333333  \n",
       "1                      46.888889  \n",
       "2                      45.444444  \n",
       "3                      44.111111  \n",
       "4                      44.222222  \n",
       "...                          ...  \n",
       "96                     96.444444  \n",
       "97                     96.444444  \n",
       "98                     96.666667  \n",
       "99                     96.666667  \n",
       "100                    96.777778  \n",
       "\n",
       "[101 rows x 7 columns]"
      ]
     },
     "execution_count": 12,
     "metadata": {},
     "output_type": "execute_result"
    },
    {
     "data": {
      "image/png": "[encoded data removed]",
      "text/plain": [
       "<Figure size 640x480 with 2 Axes>"
      ]
     },
     "metadata": {},
     "output_type": "display_data"
    }
   ],
   "source": [
    "from wolfsheep import WolfSheepModel\n",
    "\n",
    "\n",
    "model = WolfSheepModel(30, 30, True, \"Extended model\", 50, 100, 20, 4, 5, 4, 30, True, True, -0.5, True, 474)\n",
    "for i in range(100):\n",
    "    model.step()\n",
    "df = model.datacollector.get_model_vars_dataframe()\n",
    "df.index.name = \"Step\"\n",
    "ax1, ax2 = df.plot(subplots=[tuple(df.columns[:-1])], sharex=True)\n",
    "ax1.legend(bbox_to_anchor=(1, 1))\n",
    "ax2.legend(bbox_to_anchor=(1, 1))\n",
    "df.to_csv(\"data.csv\", sep=\";\", decimal=\",\")\n",
    "df"
   ]
  },
  {
   "cell_type": "markdown",
   "id": "0acb87dc",
   "metadata": {},
   "source": [
    "## Hivatkozások"
   ]
  },
  {
   "cell_type": "markdown",
   "id": "1f501aac",
   "metadata": {},
   "source": [
    "* Wilensky, U. (1997). NetLogo Wolf Sheep Predation model. http://ccl.northwestern.edu/netlogo/models/WolfSheepPredation. Center for Connected Learning and Computer-Based Modeling, Northwestern University, Evanston, IL."
   ]
  }
 ],
 "metadata": {
  "kernelspec": {
   "display_name": "Python 3",
   "language": "python",
   "name": "python3"
  },
  "language_info": {
   "codemirror_mode": {
    "name": "ipython",
    "version": 3
   },
   "file_extension": ".py",
   "mimetype": "text/x-python",
   "name": "python",
   "nbconvert_exporter": "python",
   "pygments_lexer": "ipython3",
   "version": "3.12.2"
  }
 },
 "nbformat": 4,
 "nbformat_minor": 5
}
